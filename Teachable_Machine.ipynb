{
  "nbformat": 4,
  "nbformat_minor": 0,
  "metadata": {
    "colab": {
      "provenance": []
    },
    "kernelspec": {
      "name": "python3",
      "display_name": "Python 3"
    },
    "language_info": {
      "name": "python"
    }
  },
  "cells": [
    {
      "cell_type": "code",
      "source": [
        "%pip install -q \"openvino>=2023.1.0\""
      ],
      "metadata": {
        "id": "6XFQTbn8kzDf",
        "outputId": "8a753db8-7668-4d84-a166-e0e9aff229d3",
        "colab": {
          "base_uri": "https://localhost:8080/"
        }
      },
      "execution_count": 1,
      "outputs": [
        {
          "output_type": "stream",
          "name": "stdout",
          "text": [
            "\u001b[2K   \u001b[90m━━━━━━━━━━━━━━━━━━━━━━━━━━━━━━━━━━━━━━━━\u001b[0m \u001b[32m46.7/46.7 MB\u001b[0m \u001b[31m11.4 MB/s\u001b[0m eta \u001b[36m0:00:00\u001b[0m\n",
            "\u001b[?25h"
          ]
        }
      ]
    },
    {
      "cell_type": "code",
      "source": [
        "import openvino as ov\n",
        "core = ov.Core()\n",
        "core"
      ],
      "metadata": {
        "id": "LnI5yIYGnTgq"
      },
      "execution_count": null,
      "outputs": []
    },
    {
      "cell_type": "code",
      "source": [
        "from tensorflow.keras.models import load_model\n",
        "model = load_model('keras_model.h5',compile=False)"
      ],
      "metadata": {
        "id": "vf_RYG8FrdE5"
      },
      "execution_count": null,
      "outputs": []
    },
    {
      "cell_type": "code",
      "source": [
        "# If you want to save and load on any machine, use this code\n",
        "ir_model = ov.convert_model(model, input=[1,224,224,3])\n",
        "ov.save_model(ir_model,\"tm.xml\")"
      ],
      "metadata": {
        "id": "TfxU7POtnUHv"
      },
      "execution_count": null,
      "outputs": []
    },
    {
      "cell_type": "code",
      "source": [
        "!wget https://5.imimg.com/data5/SELLER/Default/2022/3/BK/TA/UG/148618475/vivo-y19-mobile-phones.jpg -O demo.jpg"
      ],
      "metadata": {
        "id": "4MrvcHQks4mM"
      },
      "execution_count": null,
      "outputs": []
    },
    {
      "cell_type": "code",
      "source": [
        "import cv2  # Install opencv-python\n",
        "import numpy as np\n",
        "# Disable scientific notation for clarity\n",
        "np.set_printoptions(suppress=True)\n",
        "# Load the model\n",
        "model = core.read_model('/content/tm.xml')\n",
        "compiled_model = core.compile_model(model=model)\n",
        "# Load the labels\n",
        "class_names = open(\"labels.txt\", \"r\").readlines()\n",
        "    # Grab the webcamera's image.\n",
        "image = cv2.imread('demo.jpg')\n",
        "    # Resize the raw image into (224-height,224-width) pixels\n",
        "image = cv2.resize(image, (224, 224), interpolation=cv2.INTER_AREA)\n",
        "\n",
        "    # Make the image a numpy array and reshape it to the models input shape.\n",
        "image = np.asarray(image, dtype=np.float32).reshape(1, 224, 224, 3)\n",
        "\n",
        "    # Normalize the image array\n",
        "image = (image / 127.5) - 1\n",
        "\n",
        "    # Predicts the model\n",
        "output_key = compiled_model.output(0)\n",
        "\n",
        "print(output_key)\n",
        "op = compiled_model(image)[output_key]\n",
        "op = np.argmax(op)\n",
        "class_names[op]"
      ],
      "metadata": {
        "id": "LYvfQ56Uq7Xo"
      },
      "execution_count": null,
      "outputs": []
    },
    {
      "cell_type": "code",
      "source": [],
      "metadata": {
        "id": "g_gCKAeztC2a"
      },
      "execution_count": null,
      "outputs": []
    }
  ]
}